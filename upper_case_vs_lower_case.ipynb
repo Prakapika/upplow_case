{
 "cells": [
  {
   "cell_type": "code",
   "execution_count": 2,
   "id": "82f2fd58",
   "metadata": {},
   "outputs": [
    {
     "name": "stdout",
     "output_type": "stream",
     "text": [
      "Original string:  The quick Brown Fox name is FOX\n",
      "The number of uppercase letter:  6\n",
      "The number of lowercase letter:  19\n"
     ]
    }
   ],
   "source": [
    "def upplow(str1):\n",
    "    upper_case = 0\n",
    "    lower_case = 0\n",
    "    for i in str1:\n",
    "        if i.isupper():\n",
    "            upper_case+=1\n",
    "        elif i.islower():\n",
    "            lower_case+=1\n",
    "        else:\n",
    "            pass\n",
    "    print(\"Original string: \", str1)\n",
    "    print(\"The number of uppercase letter: \", upper_case)\n",
    "    print(\"The number of lowercase letter: \", lower_case)\n",
    "upplow(\"The quick Brown Fox name is FOX\")"
   ]
  },
  {
   "cell_type": "code",
   "execution_count": null,
   "id": "8b3ce403",
   "metadata": {},
   "outputs": [],
   "source": []
  }
 ],
 "metadata": {
  "kernelspec": {
   "display_name": "Python 3 (ipykernel)",
   "language": "python",
   "name": "python3"
  },
  "language_info": {
   "codemirror_mode": {
    "name": "ipython",
    "version": 3
   },
   "file_extension": ".py",
   "mimetype": "text/x-python",
   "name": "python",
   "nbconvert_exporter": "python",
   "pygments_lexer": "ipython3",
   "version": "3.10.6"
  }
 },
 "nbformat": 4,
 "nbformat_minor": 5
}
